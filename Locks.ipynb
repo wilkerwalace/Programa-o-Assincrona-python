{
 "cells": [
  {
   "cell_type": "code",
   "execution_count": 29,
   "id": "4596f2e4",
   "metadata": {},
   "outputs": [
    {
     "ename": "AttributeError",
     "evalue": "'MyThread' object has no attribute 'isAlive'",
     "output_type": "error",
     "traceback": [
      "\u001b[1;31m---------------------------------------------------------------------------\u001b[0m",
      "\u001b[1;31mAttributeError\u001b[0m                            Traceback (most recent call last)",
      "\u001b[1;32mC:\\Users\\RENNAN~1\\AppData\\Local\\Temp/ipykernel_16488/1760706941.py\u001b[0m in \u001b[0;36m<module>\u001b[1;34m\u001b[0m\n\u001b[0;32m     39\u001b[0m     \u001b[0mthread\u001b[0m\u001b[1;33m.\u001b[0m\u001b[0msetDaemon\u001b[0m\u001b[1;33m(\u001b[0m\u001b[1;32mTrue\u001b[0m\u001b[1;33m)\u001b[0m\u001b[1;33m\u001b[0m\u001b[1;33m\u001b[0m\u001b[0m\n\u001b[0;32m     40\u001b[0m     \u001b[0mthread\u001b[0m\u001b[1;33m.\u001b[0m\u001b[0mstart\u001b[0m\u001b[1;33m(\u001b[0m\u001b[1;33m)\u001b[0m\u001b[1;33m\u001b[0m\u001b[1;33m\u001b[0m\u001b[0m\n\u001b[1;32m---> 41\u001b[1;33m \u001b[0mprocess_requests\u001b[0m\u001b[1;33m(\u001b[0m\u001b[0mthreads\u001b[0m\u001b[1;33m)\u001b[0m\u001b[1;33m\u001b[0m\u001b[1;33m\u001b[0m\u001b[0m\n\u001b[0m\u001b[0;32m     42\u001b[0m \u001b[1;33m\u001b[0m\u001b[0m\n\u001b[0;32m     43\u001b[0m \u001b[0mprint\u001b[0m\u001b[1;33m(\u001b[0m\u001b[1;34mf'Took {time.time() - start : .2f} seconds'\u001b[0m\u001b[1;33m)\u001b[0m\u001b[1;33m\u001b[0m\u001b[1;33m\u001b[0m\u001b[0m\n",
      "\u001b[1;32mC:\\Users\\RENNAN~1\\AppData\\Local\\Temp/ipykernel_16488/1760706941.py\u001b[0m in \u001b[0;36mprocess_requests\u001b[1;34m(threads, timeout)\u001b[0m\n\u001b[0;32m     20\u001b[0m         \u001b[1;32mreturn\u001b[0m \u001b[0msum\u001b[0m\u001b[1;33m(\u001b[0m\u001b[0malive\u001b[0m\u001b[1;33m)\u001b[0m\u001b[1;33m\u001b[0m\u001b[1;33m\u001b[0m\u001b[0m\n\u001b[0;32m     21\u001b[0m \u001b[1;33m\u001b[0m\u001b[0m\n\u001b[1;32m---> 22\u001b[1;33m     \u001b[1;32mwhile\u001b[0m \u001b[0malive_count\u001b[0m\u001b[1;33m(\u001b[0m\u001b[1;33m)\u001b[0m \u001b[1;33m>\u001b[0m \u001b[1;36m0\u001b[0m \u001b[1;32mand\u001b[0m \u001b[0mtimeout\u001b[0m \u001b[1;33m>\u001b[0m \u001b[1;36m0\u001b[0m\u001b[1;33m:\u001b[0m\u001b[1;33m\u001b[0m\u001b[1;33m\u001b[0m\u001b[0m\n\u001b[0m\u001b[0;32m     23\u001b[0m         \u001b[0mtimeout\u001b[0m \u001b[1;33m-=\u001b[0m \u001b[0mUPDATE_INTERVAL\u001b[0m\u001b[1;33m\u001b[0m\u001b[1;33m\u001b[0m\u001b[0m\n\u001b[0;32m     24\u001b[0m         \u001b[0mtime\u001b[0m\u001b[1;33m.\u001b[0m\u001b[0msleep\u001b[0m\u001b[1;33m(\u001b[0m\u001b[0mUPDATE_INTERVAL\u001b[0m\u001b[1;33m)\u001b[0m\u001b[1;33m\u001b[0m\u001b[1;33m\u001b[0m\u001b[0m\n",
      "\u001b[1;32mC:\\Users\\RENNAN~1\\AppData\\Local\\Temp/ipykernel_16488/1760706941.py\u001b[0m in \u001b[0;36malive_count\u001b[1;34m()\u001b[0m\n\u001b[0;32m     17\u001b[0m \u001b[1;32mdef\u001b[0m \u001b[0mprocess_requests\u001b[0m\u001b[1;33m(\u001b[0m\u001b[0mthreads\u001b[0m\u001b[1;33m,\u001b[0m \u001b[0mtimeout\u001b[0m\u001b[1;33m=\u001b[0m\u001b[1;36m5\u001b[0m\u001b[1;33m)\u001b[0m\u001b[1;33m:\u001b[0m\u001b[1;33m\u001b[0m\u001b[1;33m\u001b[0m\u001b[0m\n\u001b[0;32m     18\u001b[0m     \u001b[1;32mdef\u001b[0m \u001b[0malive_count\u001b[0m\u001b[1;33m(\u001b[0m\u001b[1;33m)\u001b[0m\u001b[1;33m:\u001b[0m\u001b[1;33m\u001b[0m\u001b[1;33m\u001b[0m\u001b[0m\n\u001b[1;32m---> 19\u001b[1;33m         \u001b[0malive\u001b[0m \u001b[1;33m=\u001b[0m \u001b[1;33m[\u001b[0m\u001b[1;36m1\u001b[0m \u001b[1;32mif\u001b[0m \u001b[0mthread\u001b[0m\u001b[1;33m.\u001b[0m\u001b[0misAlive\u001b[0m\u001b[1;33m(\u001b[0m\u001b[1;33m)\u001b[0m \u001b[1;32melse\u001b[0m \u001b[1;36m0\u001b[0m \u001b[1;32mfor\u001b[0m \u001b[0mthread\u001b[0m \u001b[1;32min\u001b[0m \u001b[0mthreads\u001b[0m\u001b[1;33m]\u001b[0m\u001b[1;33m\u001b[0m\u001b[1;33m\u001b[0m\u001b[0m\n\u001b[0m\u001b[0;32m     20\u001b[0m         \u001b[1;32mreturn\u001b[0m \u001b[0msum\u001b[0m\u001b[1;33m(\u001b[0m\u001b[0malive\u001b[0m\u001b[1;33m)\u001b[0m\u001b[1;33m\u001b[0m\u001b[1;33m\u001b[0m\u001b[0m\n\u001b[0;32m     21\u001b[0m \u001b[1;33m\u001b[0m\u001b[0m\n",
      "\u001b[1;32mC:\\Users\\RENNAN~1\\AppData\\Local\\Temp/ipykernel_16488/1760706941.py\u001b[0m in \u001b[0;36m<listcomp>\u001b[1;34m(.0)\u001b[0m\n\u001b[0;32m     17\u001b[0m \u001b[1;32mdef\u001b[0m \u001b[0mprocess_requests\u001b[0m\u001b[1;33m(\u001b[0m\u001b[0mthreads\u001b[0m\u001b[1;33m,\u001b[0m \u001b[0mtimeout\u001b[0m\u001b[1;33m=\u001b[0m\u001b[1;36m5\u001b[0m\u001b[1;33m)\u001b[0m\u001b[1;33m:\u001b[0m\u001b[1;33m\u001b[0m\u001b[1;33m\u001b[0m\u001b[0m\n\u001b[0;32m     18\u001b[0m     \u001b[1;32mdef\u001b[0m \u001b[0malive_count\u001b[0m\u001b[1;33m(\u001b[0m\u001b[1;33m)\u001b[0m\u001b[1;33m:\u001b[0m\u001b[1;33m\u001b[0m\u001b[1;33m\u001b[0m\u001b[0m\n\u001b[1;32m---> 19\u001b[1;33m         \u001b[0malive\u001b[0m \u001b[1;33m=\u001b[0m \u001b[1;33m[\u001b[0m\u001b[1;36m1\u001b[0m \u001b[1;32mif\u001b[0m \u001b[0mthread\u001b[0m\u001b[1;33m.\u001b[0m\u001b[0misAlive\u001b[0m\u001b[1;33m(\u001b[0m\u001b[1;33m)\u001b[0m \u001b[1;32melse\u001b[0m \u001b[1;36m0\u001b[0m \u001b[1;32mfor\u001b[0m \u001b[0mthread\u001b[0m \u001b[1;32min\u001b[0m \u001b[0mthreads\u001b[0m\u001b[1;33m]\u001b[0m\u001b[1;33m\u001b[0m\u001b[1;33m\u001b[0m\u001b[0m\n\u001b[0m\u001b[0;32m     20\u001b[0m         \u001b[1;32mreturn\u001b[0m \u001b[0msum\u001b[0m\u001b[1;33m(\u001b[0m\u001b[0malive\u001b[0m\u001b[1;33m)\u001b[0m\u001b[1;33m\u001b[0m\u001b[1;33m\u001b[0m\u001b[0m\n\u001b[0;32m     21\u001b[0m \u001b[1;33m\u001b[0m\u001b[0m\n",
      "\u001b[1;31mAttributeError\u001b[0m: 'MyThread' object has no attribute 'isAlive'"
     ]
    }
   ],
   "source": [
    "import threading\n",
    "import requests\n",
    "import time\n",
    "\n",
    "UPDATE_INTERVAL = 0.01\n",
    "\n",
    "class MyThread(threading.Thread):\n",
    "    def __init__(self, url):\n",
    "        threading.Thread.__init__(self)\n",
    "        self.url = url\n",
    "        self.result = f'{self.url}: Custom timeout'\n",
    "\n",
    "    def run(self):\n",
    "        res = requests.get(self.url)\n",
    "        self.result = f'{self.url}: {res.text}'\n",
    "\n",
    "def process_requests(threads, timeout=5):\n",
    "    def alive_count():\n",
    "        alive = [1 if thread.isAlive() else 0 for thread in threads]\n",
    "        return sum(alive)\n",
    "\n",
    "    while alive_count() > 0 and timeout > 0:\n",
    "        timeout -= UPDATE_INTERVAL\n",
    "        time.sleep(UPDATE_INTERVAL)\n",
    "    for thread in threads:\n",
    "        print(thread.result)\n",
    "\n",
    "urls = [\n",
    "    'http://httpstat.us/200',\n",
    "    'http://httpstat.us/200?sleep=4000',\n",
    "    'http://httpstat.us/200?sleep=20000',\n",
    "    'http://httpstat.us/400'\n",
    "]\n",
    "\n",
    "start = time.time()\n",
    "\n",
    "threads = [MyThread(url) for url in urls]\n",
    "for thread in threads:\n",
    "    thread.setDaemon(True)\n",
    "    thread.start()\n",
    "process_requests(threads)\n",
    "\n",
    "print(f'Took {time.time() - start : .2f} seconds')\n",
    "\n",
    "print('Done.')"
   ]
  },
  {
   "cell_type": "code",
   "execution_count": 25,
   "id": "8a135300",
   "metadata": {},
   "outputs": [
    {
     "name": "stdout",
     "output_type": "stream",
     "text": [
      "Voce comprou 1 pão(es).         Ainda temos 9 em estoque\n",
      "Voce comprou 2 pão(es).         Ainda temos 8 em estoque\n",
      "Voce comprou 3 pão(es).         Ainda temos 7 em estoque\n",
      "Voce comprou 4 pão(es).         Ainda temos 6 em estoque\n",
      "Voce comprou 5 pão(es).         Ainda temos 5 em estoque\n",
      "Voce comprou 6 pão(es).         Ainda temos 4 em estoque\n",
      "Voce comprou 7 pão(es).         Ainda temos 3 em estoque\n",
      "Voce comprou 8 pão(es).         Ainda temos 2 em estoque\n",
      "Voce comprou 9 pão(es).         Ainda temos 1 em estoque\n",
      "Voce comprou 10 pão(es).         Ainda temos 0 em estoque\n",
      "Não temos pães suficientes.\n",
      "Não temos pães suficientes.\n",
      "Não temos pães suficientes.\n",
      "Não temos pães suficientes.\n",
      "Não temos pães suficientes.\n",
      "Não temos pães suficientes.\n",
      "Não temos pães suficientes.\n",
      "Não temos pães suficientes.\n",
      "Não temos pães suficientes.\n"
     ]
    }
   ],
   "source": [
    "for i in range(1, 20):\n",
    "    paes = Paes(10)\n",
    "    paes.comprar(i)"
   ]
  },
  {
   "cell_type": "code",
   "execution_count": 21,
   "id": "772863db",
   "metadata": {},
   "outputs": [
    {
     "name": "stdout",
     "output_type": "stream",
     "text": [
      "Não temos ingressos suficientes.\n",
      "Não temos ingressos suficientes.Não temos ingressos suficientes.\n",
      "\n",
      "Não temos ingressos suficientes.\n",
      "Não temos ingressos suficientes.\n",
      "Não temos ingressos suficientes.\n",
      "Não temos ingressos suficientes.\n",
      "Não temos ingressos suficientes.\n",
      "Não temos ingressos suficientes.\n",
      "10\n",
      "Voce comprou 10 ingresso(s).         Ainda temos 0 em estoqueVoce comprou 5 ingresso(s).         Ainda temos -5 em estoque\n",
      "Voce comprou 1 ingresso(s).         Ainda temos -6 em estoque\n",
      "\n",
      "Voce comprou 9 ingresso(s).         Ainda temos -15 em estoque\n",
      "Voce comprou 2 ingresso(s).         Ainda temos -17 em estoque\n",
      "Voce comprou 8 ingresso(s).         Ainda temos -25 em estoque\n",
      "Voce comprou 4 ingresso(s).         Ainda temos -29 em estoque\n",
      "Voce comprou 7 ingresso(s).         Ainda temos -36 em estoque\n",
      "Voce comprou 3 ingresso(s).         Ainda temos -39 em estoque\n",
      "Voce comprou 6 ingresso(s).         Ainda temos -45 em estoque\n"
     ]
    }
   ],
   "source": [
    "## Em algum momento você pode querer usar threads \n",
    "# para querer execultar essas funções\n",
    "ingressos = Ingressos(10)\n",
    "for i in range(1, 20):\n",
    "    t = Thread(target=ingressos.comprar, args=(i,))\n",
    "    t.start()\n",
    "\n",
    "print(ingressos.estoque)\n",
    "\n",
    "#Suponha que em algum momento eu atraso a tarefa por algum motivo\n",
    "#Colocar o sleep abaixo do return\n",
    "\n",
    "from threading import Lock\n",
    "#coloca o self.lock = Lock() abaixo do init da classe\n",
    "\n",
    "# dpois coloca o self.lock.acquire() debaixo da função comprar\n",
    "\n",
    "# Depois coloca self.lock.realease() debaixo da do print de estoque\n",
    "# antes do return self.lock.realese()"
   ]
  },
  {
   "cell_type": "code",
   "execution_count": null,
   "id": "052adb11",
   "metadata": {},
   "outputs": [],
   "source": []
  }
 ],
 "metadata": {
  "kernelspec": {
   "display_name": "Python 3 (ipykernel)",
   "language": "python",
   "name": "python3"
  },
  "language_info": {
   "codemirror_mode": {
    "name": "ipython",
    "version": 3
   },
   "file_extension": ".py",
   "mimetype": "text/x-python",
   "name": "python",
   "nbconvert_exporter": "python",
   "pygments_lexer": "ipython3",
   "version": "3.9.7"
  }
 },
 "nbformat": 4,
 "nbformat_minor": 5
}
