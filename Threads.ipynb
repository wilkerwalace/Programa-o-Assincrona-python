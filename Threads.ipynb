{
 "cells": [
  {
   "cell_type": "code",
   "execution_count": 1,
   "id": "efdc31ed",
   "metadata": {},
   "outputs": [
    {
     "name": "stdout",
     "output_type": "stream",
     "text": [
      "Olá bootcampers\n",
      "0\n",
      "1\n",
      "2\n",
      "3\n",
      "4\n",
      "5\n",
      "6\n",
      "7\n",
      "8\n",
      "9\n",
      "IGTI\n"
     ]
    }
   ],
   "source": [
    "from time import sleep\n",
    "print(\"Olá bootcampers\")\n",
    "\n",
    "for i in range(10):\n",
    "    print(i)\n",
    "    sleep(.5)\n",
    "    \n",
    "print(\"IGTI\")"
   ]
  },
  {
   "cell_type": "code",
   "execution_count": 7,
   "id": "c8a85d4c",
   "metadata": {},
   "outputs": [
    {
     "name": "stdout",
     "output_type": "stream",
     "text": [
      "0\n",
      "1\n",
      "IGTI Thread 4\n",
      "2\n",
      "3\n",
      "4\n",
      "IGTI Thread 1\n",
      "5\n",
      "6\n",
      "7\n",
      "IGTI Thread 2\n",
      "8\n",
      "9\n",
      "10\n",
      "11\n",
      "12\n",
      "13\n",
      "14\n",
      "15\n",
      "16\n",
      "IGTI Thread 3\n",
      "17\n",
      "18\n",
      "19\n"
     ]
    }
   ],
   "source": [
    "from threading import Thread\n",
    "\n",
    "class IGThread(Thread):\n",
    "    def __init__(self, texto, tempo):\n",
    "        self.texto = texto\n",
    "        self.tempo = tempo\n",
    "        \n",
    "        super().__init__()\n",
    "        \n",
    "    def run(self):\n",
    "        sleep(self.tempo)\n",
    "        print(self.texto)\n",
    "\n",
    "t1 = IGThread('IGTI Thread 1', 5)\n",
    "t1.start()\n",
    "\n",
    "t2 = IGThread('IGTI Thread 2', 8)\n",
    "t2.start()\n",
    "\n",
    "t3 = IGThread('IGTI Thread 3', 17)\n",
    "t3.start()\n",
    "\n",
    "t4 = IGThread('IGTI Thread 4', 2)\n",
    "t4.start()\n",
    "\n",
    "for i in range(20):\n",
    "    print(i)\n",
    "    sleep(1)"
   ]
  },
  {
   "cell_type": "code",
   "execution_count": 8,
   "id": "213b0bc4",
   "metadata": {},
   "outputs": [],
   "source": [
    "from time import sleep\n",
    "from threading import Thread"
   ]
  },
  {
   "cell_type": "code",
   "execution_count": 12,
   "id": "cd58a4be",
   "metadata": {},
   "outputs": [
    {
     "name": "stdout",
     "output_type": "stream",
     "text": [
      "0\n",
      "1\n",
      "2\n",
      "3\n",
      "4\n",
      "Thread IGTI 3\n",
      "5\n",
      "6\n",
      "7\n",
      "Thread IGTI 2\n",
      "8\n",
      "9\n",
      "Thread IGTI 1 \n",
      "10\n",
      "11\n",
      "12\n",
      "13\n",
      "14\n",
      "15\n",
      "16\n",
      "17\n",
      "18\n",
      "19\n"
     ]
    }
   ],
   "source": [
    "def tarefa_demorada(texto, tempo):\n",
    "    sleep(tempo)\n",
    "    print(texto)\n",
    "\n",
    "t = Thread(target=tarefa_demorada, args=('Thread IGTI 1 ', 5))\n",
    "t.start()\n",
    "\n",
    "t1 = Thread(target=tarefa_demorada, args=('Thread IGTI 2', 4))\n",
    "t1.start()\n",
    "\n",
    "t2 = Thread(target=tarefa_demorada, args=('Thread IGTI 3', 2))\n",
    "t2.start()\n",
    "\n",
    "for i in range(20):\n",
    "    print(i)\n",
    "    sleep(0.5)"
   ]
  },
  {
   "cell_type": "code",
   "execution_count": 14,
   "id": "feba9543",
   "metadata": {},
   "outputs": [
    {
     "name": "stdout",
     "output_type": "stream",
     "text": [
      "Esperando a Thread.\n",
      "Esperando a Thread.\n",
      "Esperando a Thread.\n",
      "Esperando a Thread.\n",
      "Esperando a Thread.\n",
      "Thread IGTI\n"
     ]
    }
   ],
   "source": [
    "def tarefa_demorada(texto, tempo):\n",
    "    sleep(tempo)\n",
    "    print(texto)\n",
    "\n",
    "t = Thread(target=tarefa_demorada, args=('Thread IGTI', 10))\n",
    "t.start()\n",
    "\n",
    "while t.is_alive():\n",
    "    print('Esperando a Thread.')\n",
    "    sleep(2)\n",
    "\n",
    "# Então essa é uma maneira de você esperar thread terminar de fazer um parefa para execultar\n",
    "# Por exemplo\n",
    "print(\"Thread Acabou!\")\n",
    "\n",
    "#t.join() #AGora ele retorna block\n"
   ]
  },
  {
   "cell_type": "code",
   "execution_count": null,
   "id": "63aee1d3",
   "metadata": {},
   "outputs": [],
   "source": []
  }
 ],
 "metadata": {
  "kernelspec": {
   "display_name": "Python 3 (ipykernel)",
   "language": "python",
   "name": "python3"
  },
  "language_info": {
   "codemirror_mode": {
    "name": "ipython",
    "version": 3
   },
   "file_extension": ".py",
   "mimetype": "text/x-python",
   "name": "python",
   "nbconvert_exporter": "python",
   "pygments_lexer": "ipython3",
   "version": "3.9.7"
  }
 },
 "nbformat": 4,
 "nbformat_minor": 5
}
